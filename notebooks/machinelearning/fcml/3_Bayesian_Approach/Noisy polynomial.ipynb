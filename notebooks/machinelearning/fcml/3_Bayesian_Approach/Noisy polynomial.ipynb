{
 "cells": [
  {
   "cell_type": "markdown",
   "metadata": {},
   "source": [
    "Data comes from a polynomial $t = 5x^3 - x^2 + x + \\epsilon$ where $\\epsilon = \\mathcal{N}(0, 150)$ "
   ]
  },
  {
   "cell_type": "code",
   "execution_count": 32,
   "metadata": {},
   "outputs": [],
   "source": [
    "import matplotlib\n",
    "%matplotlib inline\n",
    "\n",
    "import numpy as np\n",
    "import pandas as pd\n",
    "from matplotlib import pyplot as plt\n",
    "from scipy.stats import norm\n",
    "\n",
    "epsilon = norm(loc=0, scale=300)\n",
    "\n",
    "def polynoise(x):\n",
    "    x = np.atleast_1d(x)\n",
    "    return 5*x**3 -x**2 + x + norm.rvs(size=x.size)"
   ]
  },
  {
   "cell_type": "code",
   "execution_count": 33,
   "metadata": {},
   "outputs": [],
   "source": [
    "# 100 random sample of values from -5 to 5\n",
    "x = np.random.random(100) * 10 - 5\n",
    "\n",
    "t = polynoise(x)\n",
    "\n",
    "data = pd.Series(t, x)"
   ]
  },
  {
   "cell_type": "code",
   "execution_count": 28,
   "metadata": {},
   "outputs": [
    {
     "data": {
      "image/png": "[encoded data removed]",
      "text/plain": [
       "<Figure size 864x648 with 1 Axes>"
      ]
     },
     "metadata": {
      "needs_background": "light"
     },
     "output_type": "display_data"
    }
   ],
   "source": [
    "plt.figure(figsize=(12, 9))\n",
    "plt.scatter(x, t)\n",
    "plt.grid()"
   ]
  },
  {
   "cell_type": "markdown",
   "metadata": {},
   "source": [
    "Marginal likelihood is the probability of the observed outcome given our input data, integrated over all values of $\\mathbf{w}$\n",
    "\n",
    "$$p(\\mathbf{t|X, \\mu_0, \\Sigma_0}) = {\\displaystyle \\int p(\\mathbf{t|X, w, \\sigma^2}) p(\\mathbf{w|\\mu_0, \\Sigma_0})} d\\mathbf{w}$$\n",
    "\n",
    "$$p(\\mathbf{t|X, \\mu_0, \\Sigma_0}) = \\mathcal{N}(\\mathbf{X\\mu_0}, \\sigma^2\\mathbf{I_N + X\\Sigma_0X^T})$$\n",
    "\n",
    "For each polynomial order, work out the marginal likelihood of observing the data.\n"
   ]
  },
  {
   "cell_type": "code",
   "execution_count": 59,
   "metadata": {},
   "outputs": [],
   "source": [
    "from scipy.stats import multivariate_normal\n",
    "s = 1   # sigma\n",
    "\n",
    "def generate_prior_w(n):\n",
    "    return scipy.stats.multivariate_normal(np.zeros(n), np.identity(n))\n",
    "\n",
    "def generate_X(x, n):\n",
    "    X = np.polynomial.polynomial.polyvander(x, deg=n)\n",
    "    return X\n",
    "\n",
    "pinv = np.linalg.pinv\n",
    "\n",
    "def likelihood(data, n, debug=False):\n",
    "    # use all the data.\n",
    "    X = generate_X(data.index, n)\n",
    "    mu0 = np.zeros(n+1)\n",
    "    sigma0 = np.identity(n+1)\n",
    "    mu_p = np.einsum('ij,j->i', X, mu0)\n",
    "    sigma_p = s**2 * np.identity(data.size) + np.einsum('ij,jk,km->im', X, sigma0, X.T)\n",
    "    marginal = multivariate_normal(mu_p, sigma_p)\n",
    "    likelihood = marginal.pdf(data.values)\n",
    "    if debug:\n",
    "        retvals = likelihood, marginal, mu_p, sigma_p\n",
    "    else:\n",
    "        retvals = likelihood,\n",
    "    return retvals\n",
    "    \n",
    "results = {}\n",
    "    \n",
    "for deg in range(1, 9):\n",
    "    results[deg] = likelihood(data, deg)\n",
    "    \n",
    "results = pd.Series(results)\n",
    "\n",
    "results.plot(figsize=)\n",
    "    \n"
   ]
  },
  {
   "cell_type": "code",
   "execution_count": 60,
   "metadata": {},
   "outputs": [
    {
     "data": {
      "text/plain": [
       "(0.0,)"
      ]
     },
     "execution_count": 60,
     "metadata": {},
     "output_type": "execute_result"
    }
   ],
   "source": [
    "ll"
   ]
  },
  {
   "cell_type": "code",
   "execution_count": 48,
   "metadata": {},
   "outputs": [],
   "source": [
    "\n",
    "mu0 = np.zeros(2)\n",
    "\n",
    "sigma0 = np.identity(2)\n",
    "intermediate = np.einsum('ij,jk->ik', X1, sigma0)"
   ]
  },
  {
   "cell_type": "code",
   "execution_count": 49,
   "metadata": {},
   "outputs": [
    {
     "data": {
      "text/plain": [
       "(100, 2)"
      ]
     },
     "execution_count": 49,
     "metadata": {},
     "output_type": "execute_result"
    }
   ],
   "source": [
    "intermediate.shape"
   ]
  },
  {
   "cell_type": "code",
   "execution_count": 52,
   "metadata": {},
   "outputs": [
    {
     "data": {
      "text/plain": [
       "(100, 100)"
      ]
     },
     "execution_count": 52,
     "metadata": {},
     "output_type": "execute_result"
    }
   ],
   "source": [
    "np.einsum('km,mq->kq', intermediate, X1.T).shape"
   ]
  },
  {
   "cell_type": "code",
   "execution_count": null,
   "metadata": {},
   "outputs": [],
   "source": []
  }
 ],
 "metadata": {
  "kernelspec": {
   "display_name": "Python 3",
   "language": "python",
   "name": "python3"
  },
  "language_info": {
   "codemirror_mode": {
    "name": "ipython",
    "version": 3
   },
   "file_extension": ".py",
   "mimetype": "text/x-python",
   "name": "python",
   "nbconvert_exporter": "python",
   "pygments_lexer": "ipython3",
   "version": "3.7.6"
  }
 },
 "nbformat": 4,
 "nbformat_minor": 4
}

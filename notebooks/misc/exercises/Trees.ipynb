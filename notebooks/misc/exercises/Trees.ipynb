{
 "cells": [
  {
   "cell_type": "code",
   "execution_count": 1,
   "metadata": {},
   "outputs": [
    {
     "data": {
      "text/plain": [
       "'3.7.6 (default, Jan  8 2020, 19:59:22) \\n[GCC 7.3.0]'"
      ]
     },
     "execution_count": 1,
     "metadata": {},
     "output_type": "execute_result"
    }
   ],
   "source": [
    "import sys\n",
    "sys.version"
   ]
  },
  {
   "cell_type": "code",
   "execution_count": 2,
   "metadata": {},
   "outputs": [],
   "source": [
    "class Node:\n",
    "    def __init__(self, value, children=None):\n",
    "        self.value = value\n",
    "        self.children = []\n",
    "        if children:\n",
    "            for child in children:\n",
    "                self.add_child(child)\n",
    "\n",
    "    def add_child(self, child):\n",
    "        self.children.append(child)\n",
    "        \n",
    "        "
   ]
  },
  {
   "cell_type": "code",
   "execution_count": 3,
   "metadata": {},
   "outputs": [],
   "source": [
    "tree = Node(1, children=[Node(5, children=[Node(8), Node(3)]), Node(6)])"
   ]
  },
  {
   "cell_type": "code",
   "execution_count": 4,
   "metadata": {},
   "outputs": [],
   "source": [
    "def dfs(tree):\n",
    "    # visit node\n",
    "    print(tree.value)\n",
    "    for child in tree.children:\n",
    "        dfs(child)\n",
    "        \n",
    "    "
   ]
  },
  {
   "cell_type": "code",
   "execution_count": 5,
   "metadata": {},
   "outputs": [
    {
     "name": "stdout",
     "output_type": "stream",
     "text": [
      "1\n",
      "5\n",
      "8\n",
      "3\n",
      "6\n"
     ]
    }
   ],
   "source": [
    "dfs(tree)"
   ]
  },
  {
   "cell_type": "code",
   "execution_count": 6,
   "metadata": {},
   "outputs": [],
   "source": [
    "def bfs(tree):\n",
    "    print(tree.value)\n",
    "    for child in tree.children[::-1]:\n",
    "        bfs(child)\n",
    "        "
   ]
  },
  {
   "cell_type": "code",
   "execution_count": 7,
   "metadata": {},
   "outputs": [
    {
     "name": "stdout",
     "output_type": "stream",
     "text": [
      "1\n",
      "6\n",
      "5\n",
      "3\n",
      "8\n"
     ]
    }
   ],
   "source": [
    "bfs(tree)"
   ]
  },
  {
   "cell_type": "code",
   "execution_count": 8,
   "metadata": {},
   "outputs": [],
   "source": [
    "class Node:\n",
    "    def __init__(self, left, right, value):\n",
    "        self.value = value\n",
    "        self.left = left\n",
    "        self.right = right\n",
    "        \n",
    "def add_node(values_arr):\n",
    "    # base case. terminates if there is only one value\n",
    "    if len(values_arr) == 1:\n",
    "        return Node(left=None, right=None, value=values_arr[0])\n",
    "    # otherwise find the middle value, that value is assigned to this node\n",
    "    mid = len(values_arr)//2\n",
    "    thisvalue = values_arr[mid]\n",
    "    left_values = values_arr[:mid]\n",
    "    if mid < len(values_arr) - 1:\n",
    "        right_values = values_arr[mid+1:]\n",
    "        right_node = add_node(right_values)\n",
    "    else:\n",
    "        right_node = None\n",
    "    left_node = add_node(left_values)\n",
    "    this_node = Node(left_node, right_node, thisvalue)\n",
    "    return this_node\n",
    "    \n",
    "values = [1,2,3,4,5,6,7,8,9]\n",
    "tree = add_node(values)\n",
    "\n",
    "def bfs(tree):\n",
    "    q = [tree]\n",
    "    ret = []\n",
    "    while len(q) > 0:\n",
    "        current = q[0]\n",
    "        print(f\"Added: {current.value}\")\n",
    "        ret.append(current.value)\n",
    "        if current.left:\n",
    "            q.append(current.left)\n",
    "        if current.right:\n",
    "            q.append(current.right)\n",
    "        q = q[1:]\n",
    "    return ret\n",
    "    \n",
    "    "
   ]
  },
  {
   "cell_type": "code",
   "execution_count": 9,
   "metadata": {},
   "outputs": [],
   "source": [
    "def dfs(tree):\n",
    "    s = [tree]\n",
    "    ret = []\n",
    "    while len(s) > 0 and len(ret) < 9:\n",
    "        current = s[-1]\n",
    "        print(f\"Added: {current.value}\")\n",
    "        s = s[:-1]\n",
    "        print(f\"Truncated s: {[i.value for i in s]}\")\n",
    "        ret.append(current.value)\n",
    "        if current.left:\n",
    "            s.append(current.left)\n",
    "            print(f\"Appended left: {[i.value for i in s]}\")\n",
    "        if current.right:\n",
    "            s.append(current.right)\n",
    "            print(f\"Appended right: {[i.value for i in s]}\")\n",
    "    return ret"
   ]
  },
  {
   "cell_type": "code",
   "execution_count": 10,
   "metadata": {},
   "outputs": [
    {
     "name": "stdout",
     "output_type": "stream",
     "text": [
      "Added: 5\n",
      "Added: 3\n",
      "Added: 8\n",
      "Added: 2\n",
      "Added: 4\n",
      "Added: 7\n",
      "Added: 9\n",
      "Added: 1\n",
      "Added: 6\n"
     ]
    },
    {
     "data": {
      "text/plain": [
       "[5, 3, 8, 2, 4, 7, 9, 1, 6]"
      ]
     },
     "execution_count": 10,
     "metadata": {},
     "output_type": "execute_result"
    }
   ],
   "source": [
    "bfs(tree)"
   ]
  },
  {
   "cell_type": "code",
   "execution_count": 11,
   "metadata": {},
   "outputs": [
    {
     "name": "stdout",
     "output_type": "stream",
     "text": [
      "Added: 5\n",
      "Truncated s: []\n",
      "Appended left: [3]\n",
      "Appended right: [3, 8]\n",
      "Added: 8\n",
      "Truncated s: [3]\n",
      "Appended left: [3, 7]\n",
      "Appended right: [3, 7, 9]\n",
      "Added: 9\n",
      "Truncated s: [3, 7]\n",
      "Added: 7\n",
      "Truncated s: [3]\n",
      "Appended left: [3, 6]\n",
      "Added: 6\n",
      "Truncated s: [3]\n",
      "Added: 3\n",
      "Truncated s: []\n",
      "Appended left: [2]\n",
      "Appended right: [2, 4]\n",
      "Added: 4\n",
      "Truncated s: [2]\n",
      "Added: 2\n",
      "Truncated s: []\n",
      "Appended left: [1]\n",
      "Added: 1\n",
      "Truncated s: []\n"
     ]
    },
    {
     "data": {
      "text/plain": [
       "[5, 8, 9, 7, 6, 3, 4, 2, 1]"
      ]
     },
     "execution_count": 11,
     "metadata": {},
     "output_type": "execute_result"
    }
   ],
   "source": [
    "dfs(tree)\n"
   ]
  },
  {
   "cell_type": "code",
   "execution_count": null,
   "metadata": {},
   "outputs": [],
   "source": []
  }
 ],
 "metadata": {
  "kernelspec": {
   "display_name": "Python 3",
   "language": "python",
   "name": "python3"
  },
  "language_info": {
   "codemirror_mode": {
    "name": "ipython",
    "version": 3
   },
   "file_extension": ".py",
   "mimetype": "text/x-python",
   "name": "python",
   "nbconvert_exporter": "python",
   "pygments_lexer": "ipython3",
   "version": "3.7.6"
  }
 },
 "nbformat": 4,
 "nbformat_minor": 2
}

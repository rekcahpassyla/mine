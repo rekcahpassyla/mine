{
 "cells": [
  {
   "cell_type": "code",
   "execution_count": 1,
   "metadata": {
    "collapsed": true
   },
   "outputs": [],
   "source": [
    "# generate all combinations of N items\n",
    "def powerSet(items):\n",
    "    N = len(items)\n",
    "    # enumerate the 2**N possible combinations\n",
    "    for i in range(2**N):\n",
    "        combo = []\n",
    "        for j in range(N):\n",
    "            # test bit jth of integer i\n",
    "            if (i >> j) % 2 == 1:\n",
    "                combo.append(items[j])\n",
    "        yield combo"
   ]
  },
  {
   "cell_type": "code",
   "execution_count": 35,
   "metadata": {
    "collapsed": false
   },
   "outputs": [
    {
     "data": {
      "text/plain": [
       "[[], ['a'], ['b'], ['a', 'b']]"
      ]
     },
     "execution_count": 35,
     "metadata": {},
     "output_type": "execute_result"
    }
   ],
   "source": [
    "list(powerSet(['a', 'b']))"
   ]
  },
  {
   "cell_type": "code",
   "execution_count": 59,
   "metadata": {
    "collapsed": false
   },
   "outputs": [],
   "source": [
    "def gen_trinary(N):\n",
    "    # N: number of digits\n",
    "    if N == 0:\n",
    "        return []\n",
    "    elif N == 1:\n",
    "        return ['0', '1', '2']\n",
    "    else:\n",
    "        return ['{}{}'.format(i, item) \n",
    "                for i in range(3)\n",
    "                for item in gen_trinary(N-1)]\n",
    "\n",
    "def yieldAllCombos(items):\n",
    "    \"\"\"\n",
    "      Generates all combinations of N items into two bags, whereby each \n",
    "      item is in one or zero bags.\n",
    "\n",
    "      Yields a tuple, (bag1, bag2), where each bag is represented as \n",
    "      a list of which item(s) are in each bag.\n",
    "    \"\"\"\n",
    "    N = len(items)\n",
    "    # each item can be in either bag 1, bag 2, or neither\n",
    "    # therefore there are 3**N combinations\n",
    "    for i in range(3**N):\n",
    "        bag1, bag2 = [], []\n",
    "        for j in range(0, N):\n",
    "            modulo = (i // 3**j) % 3\n",
    "            print('i:{}, j:{}, modulo:{}'.format(i, j, modulo))\n",
    "            if modulo == 1:\n",
    "                bag1.append(items[j])\n",
    "            elif modulo == 2:\n",
    "                bag2.append(items[j])\n",
    "            else:\n",
    "                # means item is in no bag. \n",
    "                pass\n",
    "        yield (bag1, bag2)"
   ]
  },
  {
   "cell_type": "code",
   "execution_count": 60,
   "metadata": {
    "collapsed": false
   },
   "outputs": [
    {
     "name": "stdout",
     "output_type": "stream",
     "text": [
      "i:0, j:0, modulo:0\n",
      "i:1, j:0, modulo:1\n",
      "i:2, j:0, modulo:2\n"
     ]
    },
    {
     "data": {
      "text/plain": [
       "[([], []), (['a'], []), ([], ['a'])]"
      ]
     },
     "execution_count": 60,
     "metadata": {},
     "output_type": "execute_result"
    }
   ],
   "source": [
    "items = ['a']\n",
    "\n",
    "list(yieldAllCombos(items))"
   ]
  },
  {
   "cell_type": "code",
   "execution_count": 61,
   "metadata": {
    "collapsed": false
   },
   "outputs": [
    {
     "name": "stdout",
     "output_type": "stream",
     "text": [
      "i:0, j:0, modulo:0\n",
      "i:0, j:1, modulo:0\n",
      "i:1, j:0, modulo:1\n",
      "i:1, j:1, modulo:0\n",
      "i:2, j:0, modulo:2\n",
      "i:2, j:1, modulo:0\n",
      "i:3, j:0, modulo:0\n",
      "i:3, j:1, modulo:1\n",
      "i:4, j:0, modulo:1\n",
      "i:4, j:1, modulo:1\n",
      "i:5, j:0, modulo:2\n",
      "i:5, j:1, modulo:1\n",
      "i:6, j:0, modulo:0\n",
      "i:6, j:1, modulo:2\n",
      "i:7, j:0, modulo:1\n",
      "i:7, j:1, modulo:2\n",
      "i:8, j:0, modulo:2\n",
      "i:8, j:1, modulo:2\n"
     ]
    },
    {
     "data": {
      "text/plain": [
       "[([], []),\n",
       " (['a'], []),\n",
       " ([], ['a']),\n",
       " (['b'], []),\n",
       " (['a', 'b'], []),\n",
       " (['b'], ['a']),\n",
       " ([], ['b']),\n",
       " (['a'], ['b']),\n",
       " ([], ['a', 'b'])]"
      ]
     },
     "execution_count": 61,
     "metadata": {},
     "output_type": "execute_result"
    }
   ],
   "source": [
    "items = ['a', 'b']\n",
    "\n",
    "list(yieldAllCombos(items))"
   ]
  },
  {
   "cell_type": "code",
   "execution_count": 49,
   "metadata": {
    "collapsed": true
   },
   "outputs": [],
   "source": [
    "def gen_trinary(N):\n",
    "    # N: number of digits\n",
    "    if N == 0:\n",
    "        return []\n",
    "    elif N == 1:\n",
    "        return ['0', '1', '2']\n",
    "    else:\n",
    "        return ['{}{}'.format(i, item) \n",
    "                for i in range(3)\n",
    "                for item in gen_trinary(N-1)]\n",
    "            "
   ]
  },
  {
   "cell_type": "code",
   "execution_count": 50,
   "metadata": {
    "collapsed": false
   },
   "outputs": [
    {
     "data": {
      "text/plain": [
       "['0', '1', '2']"
      ]
     },
     "execution_count": 50,
     "metadata": {},
     "output_type": "execute_result"
    }
   ],
   "source": [
    "gen_trinary(1)"
   ]
  },
  {
   "cell_type": "code",
   "execution_count": 51,
   "metadata": {
    "collapsed": false
   },
   "outputs": [
    {
     "data": {
      "text/plain": [
       "['00', '01', '02', '10', '11', '12', '20', '21', '22']"
      ]
     },
     "execution_count": 51,
     "metadata": {},
     "output_type": "execute_result"
    }
   ],
   "source": [
    "gen_trinary(2)"
   ]
  },
  {
   "cell_type": "code",
   "execution_count": 117,
   "metadata": {
    "collapsed": true
   },
   "outputs": [],
   "source": [
    "def gen_trinary(N):\n",
    "    # N: number of digits\n",
    "    if N == 1:\n",
    "        for i in range(3):\n",
    "            yield str(i)\n",
    "    else:\n",
    "        for i in range(3):\n",
    "            for item in gen_trinary(N-1):\n",
    "                yield '{}{}'.format(i, item if item is not None else '')\n",
    "        \n",
    "import itertools\n",
    "def yield_all_combos(items):\n",
    "    if len(items) == 1:\n",
    "        for i in range(3):\n",
    "            if i == 0:\n",
    "                yield [], []\n",
    "            elif i == 1:\n",
    "                yield items, []\n",
    "            elif i == 2:\n",
    "                yield [], items\n",
    "    else:\n",
    "        for bag1, bag2 in yield_all_combos(items[:1]):\n",
    "            for bag1_1, bag2_1 in yield_all_combos(items[1:]):\n",
    "                yield(bag1+bag1_1, bag2+bag2_1)\n",
    "            "
   ]
  },
  {
   "cell_type": "code",
   "execution_count": 118,
   "metadata": {
    "collapsed": false
   },
   "outputs": [
    {
     "data": {
      "text/plain": [
       "[([], []), (['a'], []), ([], ['a'])]"
      ]
     },
     "execution_count": 118,
     "metadata": {},
     "output_type": "execute_result"
    }
   ],
   "source": [
    "list(yield_all_combos(['a']))"
   ]
  },
  {
   "cell_type": "code",
   "execution_count": 120,
   "metadata": {
    "collapsed": false
   },
   "outputs": [
    {
     "data": {
      "text/plain": [
       "[([], []),\n",
       " (['b'], []),\n",
       " ([], ['b']),\n",
       " (['a'], []),\n",
       " (['a', 'b'], []),\n",
       " (['a'], ['b']),\n",
       " ([], ['a']),\n",
       " (['b'], ['a']),\n",
       " ([], ['a', 'b'])]"
      ]
     },
     "execution_count": 120,
     "metadata": {},
     "output_type": "execute_result"
    }
   ],
   "source": [
    "list(yield_all_combos(['a', 'b']))"
   ]
  },
  {
   "cell_type": "code",
   "execution_count": 105,
   "metadata": {
    "collapsed": false
   },
   "outputs": [
    {
     "data": {
      "text/plain": [
       "['00', '01', '02', '10', '11', '12', '20', '21', '22']"
      ]
     },
     "execution_count": 105,
     "metadata": {},
     "output_type": "execute_result"
    }
   ],
   "source": [
    "list(gen_trinary(2))"
   ]
  },
  {
   "cell_type": "code",
   "execution_count": 125,
   "metadata": {
    "collapsed": true
   },
   "outputs": [],
   "source": [
    "import itertools\n",
    "def powerset(items):\n",
    "    n = len(items)\n",
    "    return itertools.chain(*(itertools.combinations(items, p) for p in range(2**n)))\n",
    "    "
   ]
  },
  {
   "cell_type": "code",
   "execution_count": 132,
   "metadata": {
    "collapsed": false
   },
   "outputs": [
    {
     "data": {
      "text/plain": [
       "[(),\n",
       " ('a',),\n",
       " ('b',),\n",
       " ('c',),\n",
       " ('d',),\n",
       " ('a', 'b'),\n",
       " ('a', 'c'),\n",
       " ('a', 'd'),\n",
       " ('b', 'c'),\n",
       " ('b', 'd'),\n",
       " ('c', 'd'),\n",
       " ('a', 'b', 'c'),\n",
       " ('a', 'b', 'd'),\n",
       " ('a', 'c', 'd'),\n",
       " ('b', 'c', 'd'),\n",
       " ('a', 'b', 'c', 'd')]"
      ]
     },
     "execution_count": 132,
     "metadata": {},
     "output_type": "execute_result"
    }
   ],
   "source": [
    "list(powerset(['a', 'b', 'c', 'd']))"
   ]
  },
  {
   "cell_type": "code",
   "execution_count": 129,
   "metadata": {
    "collapsed": false
   },
   "outputs": [],
   "source": [
    "from itertools import chain, combinations\n",
    "def powerSet(items):\n",
    "\n",
    "    N = len(items)\n",
    "\n",
    "    myPowerSet=chain.from_iterable(combinations(items,i)for i in range(N+1) )\n",
    "    return myPowerSet"
   ]
  },
  {
   "cell_type": "code",
   "execution_count": 131,
   "metadata": {
    "collapsed": false
   },
   "outputs": [
    {
     "data": {
      "text/plain": [
       "[(),\n",
       " ('a',),\n",
       " ('b',),\n",
       " ('c',),\n",
       " ('d',),\n",
       " ('a', 'b'),\n",
       " ('a', 'c'),\n",
       " ('a', 'd'),\n",
       " ('b', 'c'),\n",
       " ('b', 'd'),\n",
       " ('c', 'd'),\n",
       " ('a', 'b', 'c'),\n",
       " ('a', 'b', 'd'),\n",
       " ('a', 'c', 'd'),\n",
       " ('b', 'c', 'd'),\n",
       " ('a', 'b', 'c', 'd')]"
      ]
     },
     "execution_count": 131,
     "metadata": {},
     "output_type": "execute_result"
    }
   ],
   "source": [
    "list(powerSet(['a', 'b', 'c', 'd']))"
   ]
  },
  {
   "cell_type": "code",
   "execution_count": null,
   "metadata": {
    "collapsed": true
   },
   "outputs": [],
   "source": []
  }
 ],
 "metadata": {
  "kernelspec": {
   "display_name": "Python 3",
   "language": "python",
   "name": "python3"
  },
  "language_info": {
   "codemirror_mode": {
    "name": "ipython",
    "version": 3
   },
   "file_extension": ".py",
   "mimetype": "text/x-python",
   "name": "python",
   "nbconvert_exporter": "python",
   "pygments_lexer": "ipython3",
   "version": "3.6.0"
  }
 },
 "nbformat": 4,
 "nbformat_minor": 2
}

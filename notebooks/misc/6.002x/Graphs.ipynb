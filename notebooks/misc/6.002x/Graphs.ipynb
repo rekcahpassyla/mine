{
 "cells": [
  {
   "cell_type": "code",
   "execution_count": 92,
   "metadata": {
    "collapsed": false
   },
   "outputs": [],
   "source": [
    "class Node(object):\n",
    "    def __init__(self, n):\n",
    "        self.node = n\n",
    "        \n",
    "    def __str__(self):\n",
    "        return str(self.node)\n",
    "    \n",
    "    def __repr__(self):\n",
    "        return \"Node('{}')\".format(self.node)\n",
    "    \n",
    "    def __eq__(self, other):\n",
    "        return self.node == other.node\n",
    "    \n",
    "    def __hash__(self):\n",
    "        return hash(self.node)\n",
    "    \n",
    "class Edge(object):\n",
    "    def __init__(self, src, dest):\n",
    "        self.src = src\n",
    "        self.dest = dest\n",
    "        \n",
    "    def __str__(self):\n",
    "        return '{} -> {}'.format(self.src, self.dest)\n",
    "    \n",
    "    def __repr__(self):\n",
    "        return str(self)\n",
    "    \n",
    "    def __eq__(self, other):\n",
    "        return self.src == other.src and self.dest == other.dest\n",
    "    \n",
    "    def __hash__(self):\n",
    "        return hash((self.src, self.dest))\n",
    "    \n",
    "class Digraph(object):\n",
    "    def __init__(self):\n",
    "        self.edges = {}\n",
    "        self.nodes = []\n",
    "        \n",
    "    def addNode(self, node):\n",
    "        if node not in self.nodes:\n",
    "            self.nodes.append(node)\n",
    "        else:\n",
    "            raise ValueError(\"Duplicate node {}\".format(node))\n",
    "        \n",
    "    def addEdge(self, edge):\n",
    "        # do not allow adding edge if it already exists. \n",
    "        edges = self.edges.setdefault(edge.src, [])\n",
    "        if edge.dest not in edges:\n",
    "            self.edges[edge.src].append(edge.dest)\n",
    "        else:\n",
    "            raise ValueError(\"Duplicate edge {}\".format(edge))\n",
    "            \n",
    "    def __str__(self):\n",
    "        out = []\n",
    "        for n in self.edges.keys():\n",
    "            edges = self.edges[n]\n",
    "            for e in edges:\n",
    "                out.append(str(Edge(n, e)))\n",
    "        return '\\n'.join(out)\n",
    "        \n",
    "class Graph(Digraph):\n",
    "    def addEdge(self, edge):\n",
    "        Digraph.addEdge(self, edge)\n",
    "        Digraph.addEdge(self, Edge(edge.dest, edge.src))\n",
    "        "
   ]
  },
  {
   "cell_type": "code",
   "execution_count": 93,
   "metadata": {
    "collapsed": true
   },
   "outputs": [],
   "source": [
    "nodes = []\n",
    "nodes.append(Node(\"ABC\")) # nodes[0]\n",
    "nodes.append(Node(\"ACB\")) # nodes[1]\n",
    "nodes.append(Node(\"BAC\")) # nodes[2]\n",
    "nodes.append(Node(\"BCA\")) # nodes[3]\n",
    "nodes.append(Node(\"CAB\")) # nodes[4]\n",
    "nodes.append(Node(\"CBA\")) # nodes[5]\n",
    "\n"
   ]
  },
  {
   "cell_type": "code",
   "execution_count": 94,
   "metadata": {
    "collapsed": false
   },
   "outputs": [
    {
     "data": {
      "text/plain": [
       "[Node('ABC'), Node('CAB')]"
      ]
     },
     "execution_count": 94,
     "metadata": {},
     "output_type": "execute_result"
    }
   ],
   "source": [
    "g.edges[Node('ACB')]"
   ]
  },
  {
   "cell_type": "code",
   "execution_count": 95,
   "metadata": {
    "collapsed": false
   },
   "outputs": [
    {
     "name": "stdout",
     "output_type": "stream",
     "text": [
      "starting node: ABC\n",
      "testing candidate: BAC\n",
      "testing candidate: ACB\n",
      "starting node: ACB\n",
      "testing candidate: CAB\n",
      "testing candidate: ABC\n",
      "starting node: BAC\n",
      "testing candidate: ABC\n",
      "testing candidate: BCA\n",
      "starting node: BCA\n",
      "testing candidate: CBA\n",
      "testing candidate: BAC\n",
      "starting node: CAB\n",
      "testing candidate: ACB\n",
      "testing candidate: CBA\n",
      "starting node: CBA\n",
      "testing candidate: BCA\n",
      "testing candidate: CAB\n"
     ]
    }
   ],
   "source": [
    "g = Graph()\n",
    "for n in nodes:\n",
    "    g.addNode(n)\n",
    "existing = {}\n",
    "for n in nodes:\n",
    "    print('starting node: {}'.format(n))\n",
    "    strn = str(n)\n",
    "    candidates = [strn[:2][::-1]+strn[2:], strn[:1]+strn[1:][::-1]]\n",
    "    for c in candidates:\n",
    "        print('testing candidate: {}'.format(c))\n",
    "        nodec = Node(c)\n",
    "        e = Edge(n, nodec)\n",
    "        if n not in g.edges:\n",
    "            g.addEdge(e)\n",
    "        else:\n",
    "            e = Edge(nodec, n)\n",
    "            if nodec not in g.edges or n not in g.edges[nodec]:\n",
    "                g.addEdge(e)"
   ]
  },
  {
   "cell_type": "code",
   "execution_count": 96,
   "metadata": {
    "collapsed": false
   },
   "outputs": [
    {
     "data": {
      "text/plain": [
       "<__main__.Graph at 0x7f61d432db38>"
      ]
     },
     "execution_count": 96,
     "metadata": {},
     "output_type": "execute_result"
    }
   ],
   "source": [
    "g"
   ]
  },
  {
   "cell_type": "code",
   "execution_count": 97,
   "metadata": {
    "collapsed": false
   },
   "outputs": [
    {
     "name": "stdout",
     "output_type": "stream",
     "text": [
      "ABC -> BAC\n",
      "ABC -> ACB\n",
      "BAC -> ABC\n",
      "BAC -> BCA\n",
      "ACB -> ABC\n",
      "ACB -> CAB\n",
      "CAB -> ACB\n",
      "CAB -> CBA\n",
      "BCA -> BAC\n",
      "BCA -> CBA\n",
      "CBA -> BCA\n",
      "CBA -> CAB\n"
     ]
    }
   ],
   "source": [
    "print(g)"
   ]
  },
  {
   "cell_type": "code",
   "execution_count": 98,
   "metadata": {
    "collapsed": false
   },
   "outputs": [
    {
     "data": {
      "text/plain": [
       "[Node('ABC'), Node('ACB'), Node('BAC'), Node('BCA'), Node('CAB'), Node('CBA')]"
      ]
     },
     "execution_count": 98,
     "metadata": {},
     "output_type": "execute_result"
    }
   ],
   "source": [
    "g.nodes"
   ]
  },
  {
   "cell_type": "code",
   "execution_count": 99,
   "metadata": {
    "collapsed": true
   },
   "outputs": [],
   "source": [
    "\n",
    "for i, n in enumerate(nodes):\n",
    "    strn = str(n)\n",
    "    candidates = {strn[:2][::-1]+strn[2:], strn[:1]+strn[1:][::-1]}\n",
    "    for j, m in enumerate(nodes[i:]):\n",
    "        if str(j) in candidates:\n",
    "            if m not in g.edges[n]:\n",
    "                g.addEdge(Edge(n, m))\n"
   ]
  },
  {
   "cell_type": "code",
   "execution_count": 100,
   "metadata": {
    "collapsed": false
   },
   "outputs": [
    {
     "name": "stdout",
     "output_type": "stream",
     "text": [
      "ABC -> BAC\n",
      "ABC -> ACB\n",
      "BAC -> ABC\n",
      "BAC -> BCA\n",
      "ACB -> ABC\n",
      "ACB -> CAB\n",
      "CAB -> ACB\n",
      "CAB -> CBA\n",
      "BCA -> BAC\n",
      "BCA -> CBA\n",
      "CBA -> BCA\n",
      "CBA -> CAB\n"
     ]
    }
   ],
   "source": [
    "print(g)"
   ]
  },
  {
   "cell_type": "code",
   "execution_count": 101,
   "metadata": {
    "collapsed": true
   },
   "outputs": [],
   "source": [
    "# -*- coding: utf-8 -*-\n",
    "\"\"\"\n",
    "Created on Tue Jul 12 15:04:56 2016\n",
    "\n",
    "@author: guttag\n",
    "\"\"\"\n",
    "\n",
    "class Node(object):\n",
    "    def __init__(self, name):\n",
    "        \"\"\"Assumes name is a string\"\"\"\n",
    "        self.name = name\n",
    "    def getName(self):\n",
    "        return self.name\n",
    "    def __str__(self):\n",
    "        return self.name\n",
    "\n",
    "class Edge(object):\n",
    "    def __init__(self, src, dest):\n",
    "        \"\"\"Assumes src and dest are nodes\"\"\"\n",
    "        self.src = src\n",
    "        self.dest = dest\n",
    "    def getSource(self):\n",
    "        return self.src\n",
    "    def getDestination(self):\n",
    "        return self.dest\n",
    "    def __str__(self):\n",
    "        return self.src.getName() + '->' + self.dest.getName()\n",
    "               \n",
    "class Digraph(object):\n",
    "    \"\"\"edges is a dict mapping each node to a list of\n",
    "    its children\"\"\"\n",
    "    def __init__(self):\n",
    "        self.edges = {}\n",
    "    def addNode(self, node):\n",
    "        if node in self.edges:\n",
    "            raise ValueError('Duplicate node')\n",
    "        else:\n",
    "            self.edges[node] = []\n",
    "    def addEdge(self, edge):\n",
    "        src = edge.getSource()\n",
    "        dest = edge.getDestination()\n",
    "        if not (src in self.edges and dest in self.edges):\n",
    "            raise ValueError('Node not in graph')\n",
    "        self.edges[src].append(dest)\n",
    "    def childrenOf(self, node):\n",
    "        return self.edges[node]\n",
    "    def hasNode(self, node):\n",
    "        return node in self.edges\n",
    "    def getNode(self, name):\n",
    "        for n in self.edges:\n",
    "            if n.getName() == name:\n",
    "                return n\n",
    "        raise NameError(name)\n",
    "    def __str__(self):\n",
    "        result = ''\n",
    "        for src in self.edges:\n",
    "            for dest in self.edges[src]:\n",
    "                result = result + src.getName() + '->'\\\n",
    "                         + dest.getName() + '\\n'\n",
    "        return result[:-1] #omit final newline\n",
    "\n",
    "class Graph(Digraph):\n",
    "    def addEdge(self, edge):\n",
    "        Digraph.addEdge(self, edge)\n",
    "        rev = Edge(edge.getDestination(), edge.getSource())\n",
    "        Digraph.addEdge(self, rev)\n",
    "\n",
    "\n"
   ]
  },
  {
   "cell_type": "code",
   "execution_count": 108,
   "metadata": {
    "collapsed": true
   },
   "outputs": [],
   "source": [
    "nodes = []\n",
    "nodes.append(Node(\"ABC\")) # nodes[0]\n",
    "nodes.append(Node(\"ACB\")) # nodes[1]\n",
    "nodes.append(Node(\"BAC\")) # nodes[2]\n",
    "nodes.append(Node(\"BCA\")) # nodes[3]\n",
    "nodes.append(Node(\"CAB\")) # nodes[4]\n",
    "nodes.append(Node(\"CBA\")) # nodes[5]\n",
    "\n",
    "g = Graph()\n",
    "for n in nodes:\n",
    "    g.addNode(n)"
   ]
  },
  {
   "cell_type": "code",
   "execution_count": 109,
   "metadata": {
    "collapsed": true
   },
   "outputs": [],
   "source": [
    "\n",
    "for i, n in enumerate(nodes):\n",
    "    strn = str(n)\n",
    "    candidates = {strn[:2][::-1]+strn[2:], strn[:1]+strn[1:][::-1]}\n",
    "    for j, m in enumerate(nodes[i:]):\n",
    "        if str(m) in candidates:\n",
    "            if m not in g.edges[n]:\n",
    "                g.addEdge(Edge(n, m))"
   ]
  },
  {
   "cell_type": "code",
   "execution_count": 110,
   "metadata": {
    "collapsed": false
   },
   "outputs": [
    {
     "data": {
      "text/plain": [
       "[<__main__.Node at 0x7f61d43064e0>, <__main__.Node at 0x7f61d4306e10>]"
      ]
     },
     "execution_count": 110,
     "metadata": {},
     "output_type": "execute_result"
    }
   ],
   "source": [
    "g.childrenOf(nodes[0])"
   ]
  },
  {
   "cell_type": "code",
   "execution_count": 111,
   "metadata": {
    "collapsed": false
   },
   "outputs": [
    {
     "data": {
      "text/plain": [
       "{<__main__.Node at 0x7f61d4306eb8>: [<__main__.Node at 0x7f61d43064e0>,\n",
       "  <__main__.Node at 0x7f61d4306e10>],\n",
       " <__main__.Node at 0x7f61d43064e0>: [<__main__.Node at 0x7f61d4306eb8>,\n",
       "  <__main__.Node at 0x7f61d4306208>],\n",
       " <__main__.Node at 0x7f61d4306e10>: [<__main__.Node at 0x7f61d4306eb8>,\n",
       "  <__main__.Node at 0x7f61d4306e80>],\n",
       " <__main__.Node at 0x7f61d4306e80>: [<__main__.Node at 0x7f61d4306e10>,\n",
       "  <__main__.Node at 0x7f61d4306940>],\n",
       " <__main__.Node at 0x7f61d4306208>: [<__main__.Node at 0x7f61d43064e0>,\n",
       "  <__main__.Node at 0x7f61d4306940>],\n",
       " <__main__.Node at 0x7f61d4306940>: [<__main__.Node at 0x7f61d4306e80>,\n",
       "  <__main__.Node at 0x7f61d4306208>]}"
      ]
     },
     "execution_count": 111,
     "metadata": {},
     "output_type": "execute_result"
    }
   ],
   "source": [
    "g.edges"
   ]
  },
  {
   "cell_type": "code",
   "execution_count": 112,
   "metadata": {
    "collapsed": true
   },
   "outputs": [],
   "source": [
    "nodes = []\n",
    "nodes.append(Node(\"ABC\")) # nodes[0]\n",
    "nodes.append(Node(\"ACB\")) # nodes[1]\n",
    "nodes.append(Node(\"BAC\")) # nodes[2]\n",
    "nodes.append(Node(\"BCA\")) # nodes[3]\n",
    "nodes.append(Node(\"CAB\")) # nodes[4]\n",
    "nodes.append(Node(\"CBA\")) # nodes[5]"
   ]
  },
  {
   "cell_type": "code",
   "execution_count": null,
   "metadata": {
    "collapsed": true
   },
   "outputs": [],
   "source": []
  }
 ],
 "metadata": {
  "kernelspec": {
   "display_name": "Python 3",
   "language": "python",
   "name": "python3"
  },
  "language_info": {
   "codemirror_mode": {
    "name": "ipython",
    "version": 3
   },
   "file_extension": ".py",
   "mimetype": "text/x-python",
   "name": "python",
   "nbconvert_exporter": "python",
   "pygments_lexer": "ipython3",
   "version": "3.6.0"
  }
 },
 "nbformat": 4,
 "nbformat_minor": 2
}

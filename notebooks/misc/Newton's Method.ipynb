{
 "cells": [
  {
   "cell_type": "markdown",
   "metadata": {},
   "source": [
    "$x_0$ is the initial guess\n",
    "\n",
    "$f^1(x_0) \\approx \\frac{f(x_0)}{x_0 - x_1}$\n",
    "\n",
    "$x_0 - x_1 = \\frac{f(x_0)}{f^1(x_0}$\n",
    "\n",
    "$x_1 = \\frac{f(x_0)}{f^1(x_0} - x_0$\n",
    "\n"
   ]
  },
  {
   "cell_type": "code",
   "execution_count": 6,
   "metadata": {
    "collapsed": false
   },
   "outputs": [],
   "source": [
    "import numpy as np\n",
    "\n",
    "def f(x):\n",
    "    return x**2 - 5\n",
    "\n",
    "def fprime(x):\n",
    "    return 2*x\n",
    "\n",
    "def findroot(x0, maxiter=10, epsilon=1e-8, f=f, fprime=fprime):\n",
    "    err = np.inf\n",
    "    x = x0\n",
    "    idx = 0\n",
    "    y = f(x)\n",
    "    while idx < maxiter and abs(err) > epsilon:\n",
    "        x = y/fprime(x) - x\n",
    "        yn = f(x)\n",
    "        err = y - yn\n",
    "        print('iter: {}, f(xn): {}, f(xn+1):{}, err: {}'.format(idx, y, yn, err))\n",
    "        y = yn\n",
    "        idx += 1\n",
    "    return x\n",
    "   \n"
   ]
  },
  {
   "cell_type": "code",
   "execution_count": 7,
   "metadata": {
    "collapsed": false
   },
   "outputs": [
    {
     "name": "stdout",
     "output_type": "stream",
     "text": [
      "iter: 0, f(xn): 1.25, f(xn+1):0.0625, err: 1.1875\n",
      "iter: 1, f(xn): 0.0625, f(xn+1):0.00019290123456805475, err: 0.062307098765431945\n",
      "iter: 2, f(xn): 0.00019290123456805475, f(xn+1):1.8604735529947902e-09, err: 0.00019289937409450175\n",
      "iter: 3, f(xn): 1.8604735529947902e-09, f(xn+1):8.881784197001252e-16, err: 1.8604726648163705e-09\n"
     ]
    },
    {
     "data": {
      "text/plain": [
       "2.23606797749979"
      ]
     },
     "execution_count": 7,
     "metadata": {},
     "output_type": "execute_result"
    }
   ],
   "source": [
    "findroot(2.5)"
   ]
  },
  {
   "cell_type": "code",
   "execution_count": 8,
   "metadata": {
    "collapsed": true
   },
   "outputs": [],
   "source": [
    "def f(x):\n",
    "    return np.cos(x)\n",
    "\n",
    "def fprime(x):\n",
    "    return -np.sin(x)"
   ]
  },
  {
   "cell_type": "code",
   "execution_count": 11,
   "metadata": {
    "collapsed": false
   },
   "outputs": [
    {
     "name": "stdout",
     "output_type": "stream",
     "text": [
      "iter: 0, f(xn): -0.4161468365471424, f(xn+1):0.028450041822829644, err: -0.444596878369972\n",
      "iter: 1, f(xn): 0.028450041822829644, f(xn+1):-7.681463199823219e-06, err: 0.028457723286029468\n",
      "iter: 2, f(xn): -7.681463199823219e-06, f(xn+1):6.123233995736766e-17, err: -7.68146319988445e-06\n",
      "iter: 3, f(xn): 6.123233995736766e-17, f(xn+1):6.123233995736766e-17, err: 0.0\n"
     ]
    },
    {
     "data": {
      "text/plain": [
       "1.5707963267948966"
      ]
     },
     "execution_count": 11,
     "metadata": {},
     "output_type": "execute_result"
    }
   ],
   "source": [
    "findroot(2, f=f, fprime=fprime)"
   ]
  },
  {
   "cell_type": "code",
   "execution_count": 20,
   "metadata": {
    "collapsed": true
   },
   "outputs": [],
   "source": [
    "def f(x):\n",
    "    return np.log(x)\n",
    "\n",
    "def fprime(x):\n",
    "    return 1.0/x"
   ]
  },
  {
   "cell_type": "code",
   "execution_count": 21,
   "metadata": {
    "collapsed": false
   },
   "outputs": [
    {
     "name": "stdout",
     "output_type": "stream",
     "text": [
      "iter: 0, f(xn): 0.09531017980432493, f(xn+1):nan, err: nan\n"
     ]
    },
    {
     "name": "stderr",
     "output_type": "stream",
     "text": [
      "/home/mog/anaconda3/lib/python3.6/site-packages/ipykernel/__main__.py:2: RuntimeWarning: invalid value encountered in log\n",
      "  from ipykernel import kernelapp as app\n"
     ]
    },
    {
     "data": {
      "text/plain": [
       "-0.9951588022152427"
      ]
     },
     "execution_count": 21,
     "metadata": {},
     "output_type": "execute_result"
    }
   ],
   "source": [
    "findroot(1.1, f=f, fprime=fprime)"
   ]
  },
  {
   "cell_type": "code",
   "execution_count": 18,
   "metadata": {
    "collapsed": false
   },
   "outputs": [
    {
     "data": {
      "text/plain": [
       "0.0"
      ]
     },
     "execution_count": 18,
     "metadata": {},
     "output_type": "execute_result"
    }
   ],
   "source": [
    "np.log(1)"
   ]
  },
  {
   "cell_type": "code",
   "execution_count": null,
   "metadata": {
    "collapsed": true
   },
   "outputs": [],
   "source": []
  }
 ],
 "metadata": {
  "kernelspec": {
   "display_name": "Python 3",
   "language": "python",
   "name": "python3"
  },
  "language_info": {
   "codemirror_mode": {
    "name": "ipython",
    "version": 3
   },
   "file_extension": ".py",
   "mimetype": "text/x-python",
   "name": "python",
   "nbconvert_exporter": "python",
   "pygments_lexer": "ipython3",
   "version": "3.6.0"
  }
 },
 "nbformat": 4,
 "nbformat_minor": 2
}

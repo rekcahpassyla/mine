{
 "cells": [
  {
   "cell_type": "markdown",
   "metadata": {
    "collapsed": true
   },
   "source": [
    "Let d(n) be defined as the sum of proper divisors of n (numbers less than n which divide evenly into n).\n",
    "\n",
    "If d(a) = b and d(b) = a, where a ≠ b, then a and b are an amicable pair and each of a and b are called amicable numbers.\n",
    "\n",
    "For example, the proper divisors of 220 are 1, 2, 4, 5, 10, 11, 20, 22, 44, 55 and 110; therefore d(220) = 284. The proper divisors of 284 are 1, 2, 4, 71 and 142; so d(284) = 220.\n",
    "\n",
    "Evaluate the sum of all the amicable numbers under 10000."
   ]
  },
  {
   "cell_type": "code",
   "execution_count": 55,
   "metadata": {
    "collapsed": false
   },
   "outputs": [],
   "source": [
    "from functools import reduce\n",
    "from operator import mul\n",
    "\n",
    "def factorise(n):\n",
    "    if n <= 0:\n",
    "        raise ValueError(\"Only works for positive n: got {}\".format(n))\n",
    "    if n == 1:\n",
    "        return n\n",
    "    factors = []\n",
    "    factor = 2\n",
    "    # get rid of 2s\n",
    "    # in separate loop because \n",
    "    # in main loop we have to increment by 2,\n",
    "    # here only increment by 1. \n",
    "    while n %2 == 0:\n",
    "        factors.append(2)\n",
    "        n = n//2\n",
    "\n",
    "    # try all odd numbers.\n",
    "    factor = 3\n",
    "    while factor <= n:\n",
    "        #print(n)\n",
    "        while n%factor == 0:\n",
    "            factors.append(factor)\n",
    "            n = n // factor\n",
    "        factor += 2\n",
    "    return factors\n",
    "\n",
    "def powerset(seq):\n",
    "    # use binary count. \n",
    "    try:\n",
    "        len(seq)\n",
    "    except:\n",
    "        seq = [seq]\n",
    "    n = len(seq)\n",
    "    \n",
    "    retval = []\n",
    "    for i in range(0, 2**n):\n",
    "        thisval = []\n",
    "        # work out what binary maps to this number\n",
    "        bitstring = '{:b}'.format(i).zfill(n)\n",
    "        for idx, bit in enumerate(bitstring):\n",
    "            if int(bit):\n",
    "               thisval.append(seq[idx])\n",
    "        if thisval:\n",
    "            retval.append(thisval)\n",
    "    return retval\n",
    "\n",
    "\n",
    "    \n",
    "# decorator\n",
    "def memo(func):\n",
    "    c = {}\n",
    "    setattr(func, 'cache', c)\n",
    "    def f(*args):\n",
    "        cache = func.cache\n",
    "        key = frozenset((args))\n",
    "        if key in cache:\n",
    "            return cache[key]\n",
    "        retval = func(*args)\n",
    "        cache[key] = retval\n",
    "        return retval\n",
    "    return f\n",
    "\n",
    "@memo\n",
    "def divisors(n):\n",
    "    # find prime factors\n",
    "    # take all set combinations of those prime factors\n",
    "    pfactors = factorise(n)\n",
    "    # known to be \n",
    "    combinations = powerset(pfactors)\n",
    "    #print(combinations)\n",
    "    factors = [reduce(mul, x) for x in combinations]\n",
    "    factors = [1] + factors \n",
    "    factors = set(factors)\n",
    "    factors.remove(n)\n",
    "    return factors\n",
    "\n",
    "def is_amicable(n):\n",
    "    # find proper divisors of n\n",
    "    # sum those\n",
    "    # check sum to see if its divisors make n\n",
    "    divs = divisors(n)\n",
    "    sumdivs = sum(divs)\n",
    "    divsumdivs = divisors(sumdivs)\n",
    "    friend = sum(divsumdivs)\n",
    "    if friend == n:\n",
    "        return (n, sumdivs)\n",
    "    # otherwise return None"
   ]
  },
  {
   "cell_type": "code",
   "execution_count": 56,
   "metadata": {
    "collapsed": false
   },
   "outputs": [],
   "source": [
    "amicable = {}\n",
    "\n",
    "for n in range(2, 10001):\n",
    "    friends = is_amicable(n)\n",
    "    if friends:\n",
    "        _, friend = friends\n",
    "        amicable[n] = friend\n",
    "        "
   ]
  },
  {
   "cell_type": "code",
   "execution_count": null,
   "metadata": {
    "collapsed": true
   },
   "outputs": [],
   "source": [
    "sum(amicable.keys())"
   ]
  },
  {
   "cell_type": "code",
   "execution_count": null,
   "metadata": {
    "collapsed": true
   },
   "outputs": [],
   "source": []
  },
  {
   "cell_type": "markdown",
   "metadata": {},
   "source": [
    "## 24\n",
    "\n",
    "A permutation is an ordered arrangement of objects. For example, 3124 is one possible permutation of the digits 1, 2, 3 and 4. If all of the permutations are listed numerically or alphabetically, we call it lexicographic order. The lexicographic permutations of 0, 1 and 2 are:\n",
    "\n",
    "012   021   102   120   201   210\n",
    "\n",
    "What is the millionth lexicographic permutation of the digits 0, 1, 2, 3, 4, 5, 6, 7, 8 and 9?\n",
    "\n",
    "Use factoradic notation\n",
    "\n",
    "For example, $463_{10}$ can be transformed into a factorial representation by these successive divisions:\n",
    "\n",
    "463 ÷ 1 = 463, remainder 0\n",
    "\n",
    "463 ÷ 2 = 231, remainder 1\n",
    "\n",
    "231 ÷ 3 = 77, remainder 0\n",
    "\n",
    "77 ÷ 4 = 19, remainder 1\n",
    "\n",
    "19 ÷ 5 = 3, remainder 4\n",
    "\n",
    "3 ÷ 6 = 0, remainder 3\n",
    "\n",
    "This is $341010_{!}$"
   ]
  },
  {
   "cell_type": "code",
   "execution_count": 125,
   "metadata": {
    "collapsed": false
   },
   "outputs": [],
   "source": [
    "# assign a numerical mapping to each permutation.\n",
    "# let the ordering be such that mapping N1 > mapping N2 if N1 > N2\n",
    "# then ordering is kept \n",
    "# let 012 be 000 because all digits are in their right place\n",
    "# \n",
    "\n",
    "def to_factoradic(n, numdigits):\n",
    "    digits = []\n",
    "    remainder = n\n",
    "    i = 0\n",
    "    while remainder != 0:\n",
    "        i += 1\n",
    "        digits.insert(0, str(remainder%i))\n",
    "        remainder = remainder // i\n",
    "    return ''.join(digits).zfill(numdigits)\n",
    "\n",
    "def permutation_number_to_permutation(num, n):\n",
    "    # given a permutation number in base 10,\n",
    "    # return the matching permutation of the digits\n",
    "    # 0 to n-1\n",
    "    f = to_factoradic(num, n)\n",
    "    print('{}: {}'.format(num, f))\n",
    "    f = str(f)\n",
    "    digits = list(range(0, n))\n",
    "    out = []\n",
    "    for i in range(n, 0, -1):\n",
    "        factdigit = int(f[-i])\n",
    "        thisdigit = digits[int(f[-i])]\n",
    "        #print('factdigit: {}'.format(factdigit))\n",
    "        #print('{}: {}'.format(i, digits))\n",
    "        out.append(str(thisdigit))\n",
    "        digits.remove(thisdigit)\n",
    " \n",
    "    return ''.join(out)\n",
    "        "
   ]
  },
  {
   "cell_type": "code",
   "execution_count": 128,
   "metadata": {
    "collapsed": false
   },
   "outputs": [
    {
     "name": "stdout",
     "output_type": "stream",
     "text": [
      "1000000: 2662512200\n"
     ]
    },
    {
     "data": {
      "text/plain": [
       "'2783915604'"
      ]
     },
     "execution_count": 128,
     "metadata": {},
     "output_type": "execute_result"
    }
   ],
   "source": [
    "permutation_number_to_permutation(1000000, 10)"
   ]
  },
  {
   "cell_type": "markdown",
   "metadata": {},
   "source": [
    "## 25\n",
    "The Fibonacci sequence is defined by the recurrence relation:\n",
    "\n",
    "$F_{n} = F_{n−1} + F_{n−2}$, where F_{1} = 1 and F_{2} = 1.\n",
    "\n",
    "Hence the first 12 terms will be:\n",
    "\n",
    "$F_1 = 1$\n",
    "\n",
    "$F_2 = 1$\n",
    "\n",
    "$F_3 = 2$\n",
    "\n",
    "$F_4 = 3$\n",
    "\n",
    "$F_5 = 5$\n",
    "\n",
    "$F_6 = 8$\n",
    "\n",
    "$F_7 = 13$\n",
    "\n",
    "$F_8 = 21$\n",
    "\n",
    "$F_9 = 34$\n",
    "\n",
    "$F_{10} = 55$\n",
    "\n",
    "$F_{11} = 89$\n",
    "\n",
    "$F_{12} = 144$\n",
    "\n",
    "The 12th term, $F_{12}$, is the first term to contain three digits.\n",
    "\n",
    "What is the index of the first term in the Fibonacci sequence to contain 1000 digits?"
   ]
  },
  {
   "cell_type": "code",
   "execution_count": 14,
   "metadata": {
    "collapsed": false
   },
   "outputs": [],
   "source": [
    "def fib_until(numdigits=2):\n",
    "    # stop when it generates the first fibonacci number with numdigits\n",
    "    a, b = 1, 2\n",
    "    n = 2\n",
    "    while len(str(a)) < numdigits:\n",
    "        a, b = b, a+b\n",
    "        n += 1\n",
    "    return n, a\n",
    "    "
   ]
  },
  {
   "cell_type": "code",
   "execution_count": 17,
   "metadata": {
    "collapsed": false
   },
   "outputs": [
    {
     "data": {
      "text/plain": [
       "(4782,\n",
       " 1070066266382758936764980584457396885083683896632151665013235203375314520604694040621889147582489792657804694888177591957484336466672569959512996030461262748092482186144069433051234774442750273781753087579391666192149259186759553966422837148943113074699503439547001985432609723067290192870526447243726117715821825548491120525013201478612965931381792235559657452039506137551467837543229119602129934048260706175397706847068202895486902666185435124521900369480641357447470911707619766945691070098024393439617474103736912503231365532164773697023167755051595173518460579954919410967778373229665796581646513903488154256310184224190259846088000110186255550245493937113651657039447629584714548523425950428582425306083544435428212611008992863795048006894330309773217834864543113205765659868456288616808718693835297350643986297640660000723562917905207051164077614812491885830945940566688339109350944456576357666151619317753792891661581327159616877487983821820492520348473874384736771934512787029218636250627816)"
      ]
     },
     "execution_count": 17,
     "metadata": {},
     "output_type": "execute_result"
    }
   ],
   "source": [
    "fib_until(1000)"
   ]
  },
  {
   "cell_type": "markdown",
   "metadata": {
    "collapsed": false
   },
   "source": [
    "## 26\n",
    "\n",
    "A unit fraction contains 1 in the numerator. The decimal representation of the unit fractions with denominators 2 to 10 are given:\n",
    "\n",
    "1/2\t= \t0.5\n",
    "\n",
    "1/3\t= \t0.(3)\n",
    "\n",
    "1/4\t= \t0.25\n",
    "\n",
    "1/5\t= \t0.2\n",
    "\n",
    "1/6\t= \t0.1(6)\n",
    "\n",
    "1/7\t= \t0.(142857)\n",
    "\n",
    "1/8\t= \t0.125\n",
    "\n",
    "1/9\t= \t0.(1)\n",
    "\n",
    "1/10\t= \t0.1\n",
    "\n",
    "Where 0.1(6) means 0.166666..., and has a 1-digit recurring cycle. It can be seen that 1/7 has a 6-digit recurring cycle.\n",
    "\n",
    "Find the value of d < 1000 for which 1/d contains the longest recurring cycle in its decimal fraction part.\n",
    "\n"
   ]
  },
  {
   "cell_type": "code",
   "execution_count": 52,
   "metadata": {
    "collapsed": false
   },
   "outputs": [],
   "source": [
    "# All are expressible as rational fractions so none are irrational therefore there must be a pattern. \n",
    "import math\n",
    "\n",
    "def is_whole(number):\n",
    "    return math.floor(number) == number\n",
    "\n",
    "def detect_recurrence(n):\n",
    "    # do 1/n and see how long it takes to recur\n",
    "    # do this by multiplying by larger and larger powers of 10 and \n",
    "    # subtracting 1/n from it\n",
    "    # this should cut out rounding error.\n",
    "    # eg. 10/n - 1/n, 100/n - 1/n\n",
    "    # one problem is that we have to detect powers of 2.\n",
    "    # first remove all the powers of 2. \n",
    "    test = n\n",
    "    while test % 2 == 0:\n",
    "        test = test//2\n",
    "    if test == 1:\n",
    "        return 0\n",
    "    test10 = 10\n",
    "    i = 1\n",
    "    while True:\n",
    "        # check if multiplying by 10 results in a whole number.\n",
    "        # in which case, return 0\n",
    "        if is_whole(test10 * 1/test):\n",
    "            return 0\n",
    "        diff = test10/test - 1/test\n",
    "        print(diff)\n",
    "        if is_whole(diff):\n",
    "            break\n",
    "        i += 1\n",
    "        test10 *= 10\n",
    "    return len(str(test10)) - 1\n",
    "    \n"
   ]
  },
  {
   "cell_type": "code",
   "execution_count": 46,
   "metadata": {
    "collapsed": false
   },
   "outputs": [],
   "source": [
    "maxrecur = (0, 0)\n",
    "for i in range(1, 10001):\n",
    "    r = detect_recurrence(i)\n",
    "    if r > maxrecur[1]:\n",
    "        maxrecur = (i, r)"
   ]
  },
  {
   "cell_type": "code",
   "execution_count": 53,
   "metadata": {
    "collapsed": false
   },
   "outputs": [
    {
     "name": "stdout",
     "output_type": "stream",
     "text": [
      "0.009155645981688708\n",
      "0.1007121057985758\n",
      "1.0162767039674467\n",
      "10.171922685656156\n",
      "101.72838250254324\n",
      "1017.292980671414\n",
      "10172.938962360122\n",
      "101729.3987792472\n",
      "1017293.996948118\n",
      "10172939.978636825\n",
      "101729399.79552391\n",
      "1017293997.9643947\n",
      "10172939979.653103\n",
      "101729399796.54018\n",
      "1017293997965.411\n",
      "10172939979654.117\n",
      "101729399796541.2\n"
     ]
    },
    {
     "data": {
      "text/plain": [
       "0"
      ]
     },
     "execution_count": 53,
     "metadata": {},
     "output_type": "execute_result"
    }
   ],
   "source": [
    "detect_recurrence(983)\n"
   ]
  },
  {
   "cell_type": "code",
   "execution_count": null,
   "metadata": {
    "collapsed": true
   },
   "outputs": [],
   "source": []
  },
  {
   "cell_type": "code",
   "execution_count": null,
   "metadata": {
    "collapsed": true
   },
   "outputs": [],
   "source": []
  }
 ],
 "metadata": {
  "kernelspec": {
   "display_name": "Python 3",
   "language": "python",
   "name": "python3"
  },
  "language_info": {
   "codemirror_mode": {
    "name": "ipython",
    "version": 3
   },
   "file_extension": ".py",
   "mimetype": "text/x-python",
   "name": "python",
   "nbconvert_exporter": "python",
   "pygments_lexer": "ipython3",
   "version": "3.6.0"
  }
 },
 "nbformat": 4,
 "nbformat_minor": 2
}

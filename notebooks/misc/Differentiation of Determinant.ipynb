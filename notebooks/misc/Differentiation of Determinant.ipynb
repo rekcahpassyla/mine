{
 "cells": [
  {
   "cell_type": "markdown",
   "metadata": {},
   "source": [
    "# Matrix calculus - differentiating the determinant\n",
    "\n",
    "There is this matrix calculus PDF available in various places on the internet: http://www.doc.ic.ac.uk/~ahanda/referencepdfs/MatrixCalculus.pdf\n",
    "\n",
    "It contains an example with chain rule applied to differentiation of a determinant. We thought the example had a typo in it but weren't sure. So, to help back it up, coded up an example in `sympy`. \n",
    "\n",
    "The example reads:\n",
    "\n",
    "Suppose we have a matrix $Y = [y_{ij}]$ whose components are functions of a matrix $X = [x_{rs}]$, that is $y_{ij} = f_{ij}(x_{rs})$, and set out to build the matrix\n",
    "\n",
    "$$\\frac{ \\partial |\\mathbf{Y}|} {\\partial \\mathbf{X}} (D.31)$$ \n",
    "\n",
    "Using the chain rule we can write\n",
    "\n",
    "$$\\frac{ \\partial |\\mathbf{Y}|} {\\partial x_{rs}} = \\sum_i \\sum_j \\mathbf{Y}_{ij} \\frac{\\partial |\\mathbf{Y}|}{\\partial y_{ij}} \\frac{\\partial y_{ij}}{\\partial x_{rs}} (D.32)$$ \n",
    "\n",
    "There is a typo in the above: the cofactor $\\mathbf{Y}_{ij} $ should not be there, but we weren't sure about that. \n",
    "\n",
    "We think this equation should look like this:\n",
    "\n",
    "$$\\frac{ \\partial |\\mathbf{Y}|} {\\partial x_{rs}} = \\sum_i \\sum_j  \\frac{\\partial |\\mathbf{Y}|}{\\partial y_{ij}} \\frac{\\partial y_{ij}}{\\partial x_{rs}} (D.32A)$$ \n",
    "\n",
    "So, test it out with sympy: Define  $Y = [y_{ij}]$ whose components are functions of a matrix $X = [x_{rs}]$, that is $y_{ij} = f_{ij}(x_{rs})$, and do the actual calculation.\n",
    "\n",
    "We will use a 3x3 matrix.\n",
    "\n",
    "$\n",
    "\\mathbf{X} = \\begin{vmatrix} \n",
    "   x_{11} & x_{12} & x_{13}  \\\\\n",
    "   x_{21} & x_{22} & x_{23}  \\\\\n",
    "   x_{31} & x_{32} & x_{33}  \\\\\n",
    "   \\end{vmatrix}\n",
    "$,\n",
    "\n",
    "$\n",
    "\\mathbf{Y} = \\begin{vmatrix} \n",
    "   {x_{11}}^2 & 4x_{12}-10 & \\frac{1}{x_{13}}  \\\\\n",
    "   \\frac{1}{{x_{21}}^2} & -10x_{22} & cos(x_{23})  \\\\\n",
    "   \\sqrt{x_{31}} & exp(x_{32}) & \\frac{1}{exp(x_{33})}  \\\\\n",
    "   \\end{vmatrix}\n",
    "$\n"
   ]
  },
  {
   "cell_type": "code",
   "execution_count": 35,
   "metadata": {},
   "outputs": [],
   "source": [
    "from sympy import symbols, Matrix, cos, sqrt, exp, diff, det\n",
    "\n",
    "# Define the x and y symbols. We will express y_ij in terms of x_ij\n",
    "# Then we will create X and Y matrices from the below. \n",
    "x11, x12, x13, x21, x22, x23, x31, x32, x33 = symbols(\"x11 x12 x13 x21 x22 x23 x31 x32 x33\")\n",
    "y11, y12, y13, y21, y22, y23, y31, y32, y33 = symbols(\"y11 y12 y13 y21 y22 y23 y31 y32 y33\")\n",
    "\n",
    "# We also need d(det(Y))/dy_ij. \n",
    "# Sympy cannot handle this differentiation in terms of y_ij if Y is expressed in terms of x_ij\n",
    "# so we will have to re-create a Y matrix in terms of yy_ij, \n",
    "# where value of y_ij = value of yy_ij\n",
    "yy11, yy12, yy13, yy21, yy22, yy23, yy31, yy32, yy33 = symbols(\"yy11 yy12 yy13 yy21 yy22 yy23 yy31 yy32 yy33\")\n",
    "\n",
    "# Now define the functions\n",
    "\n",
    "y11 = x11**2; y12 = x12 * 4 - 10; y13 = 1/x13\n",
    "\n",
    "y21 = 1/(x21**2); y22 = -10*x22; y23 = cos(x23)\n",
    "\n",
    "y31 = sqrt(x31); y32 = exp(x32) ; y33 = 1/exp(x33)\n",
    "\n",
    "# Define the variables as collections just for convenience\n",
    "\n",
    "ys = y11, y12, y13, y21, y22, y23, y31, y32, y33\n",
    "\n",
    "yys = yy11, yy12, yy13, yy21, yy22, yy23, yy31, yy32, yy33\n",
    "\n",
    "# define the matrices\n",
    "Y = Matrix([[y11, y12, y13], [y21, y22, y23], [y31, y32, y33]])\n",
    "YY = Matrix([[yy11, yy12, yy13], [yy21, yy22, yy23], [yy31, yy32, yy33]])\n",
    "\n",
    "# Put in values for all the xs,\n",
    "xs = dict(\n",
    "    x11=5, x12=-4, x13=3, \n",
    "    x21=0.5, x22=6, x23=-5, \n",
    "    x31=2, x32=0.5, x33=0.6\n",
    ")\n",
    "\n",
    "# calculate values for the yys\n",
    "yy_values = {\n",
    "    # in the below, eval(f\"y{i}{j}}\") fetches the function expression y_ij \n",
    "    # then calls .evalf on that\n",
    "    f\"yy{i}{j}\": eval(f\"y{i}{j}\").evalf(subs=vars) for i in range(1, 4) for j in range(1, 4)\n",
    "}"
   ]
  },
  {
   "cell_type": "code",
   "execution_count": 36,
   "metadata": {},
   "outputs": [],
   "source": [
    "all_vars = yy_values.copy()\n",
    "all_vars.update(xs)"
   ]
  },
  {
   "cell_type": "markdown",
   "metadata": {},
   "source": [
    "Calculate the LHS of $(D32.A)$ for $x_{rs} = x_{11}$\n",
    "    \n",
    "$$\\frac{ \\partial |\\mathbf{Y}|} {\\partial x_{rs}}$$"
   ]
  },
  {
   "cell_type": "code",
   "execution_count": 37,
   "metadata": {},
   "outputs": [],
   "source": [
    "ddetY_dx11 = diff(det(Y), x11)\n",
    "\n",
    "lhs_value = ddetY_dx11.evalf(subs=all_vars)"
   ]
  },
  {
   "cell_type": "markdown",
   "metadata": {},
   "source": [
    "Calculate the RHS of $(D32.A)$:\n",
    "\n",
    "\n",
    "$$\\sum_i \\sum_j  \\frac{\\partial |\\mathbf{Y}|}{\\partial y_{ij}} \\frac{\\partial y_{ij}}{\\partial x_{rs}} $$ "
   ]
  },
  {
   "cell_type": "code",
   "execution_count": 27,
   "metadata": {},
   "outputs": [],
   "source": [
    "def all_partials(x):\n",
    "    # x: the x_ij variable required\n",
    "    # yes, I know this uses stuff defined in external scope\n",
    "    out = [\n",
    "        diff(det(YY), yy) * diff(y, x)\n",
    "        for y, yy in zip(ys, yys)\n",
    "    ]\n",
    "    all_partials_values = [\n",
    "        expr.evalf(subs=all_vars) for expr in out\n",
    "    ]\n",
    "    return sum(all_partials_values)\n",
    "rhs_value = all_partials(x11)"
   ]
  },
  {
   "cell_type": "code",
   "execution_count": 28,
   "metadata": {},
   "outputs": [
    {
     "name": "stdout",
     "output_type": "stream",
     "text": [
      "-333.963780445081\n"
     ]
    }
   ],
   "source": [
    "print(lhs_value)"
   ]
  },
  {
   "cell_type": "code",
   "execution_count": 29,
   "metadata": {},
   "outputs": [
    {
     "name": "stdout",
     "output_type": "stream",
     "text": [
      "-333.963780445081\n"
     ]
    }
   ],
   "source": [
    "print(rhs_value)"
   ]
  },
  {
   "cell_type": "markdown",
   "metadata": {},
   "source": [
    "Just to be sure we didn't just get lucky, compute this for every $x_{ij}$"
   ]
  },
  {
   "cell_type": "code",
   "execution_count": 34,
   "metadata": {},
   "outputs": [
    {
     "name": "stdout",
     "output_type": "stream",
     "text": [
      "x11: LHS=-333.963780445081, RHS=-333.963780445081\n",
      "x12: LHS=-7.17635053824648, RHS=-7.17635053824648\n",
      "x13: LHS=-10.1608554250207, RHS=-10.1608554250207\n",
      "x21: LHS=-237.098820725516, RHS=-237.098820725516\n",
      "x22: LHS=-132.488863815596, RHS=-132.488863815596\n",
      "x23: LHS=74.7841877931474, RHS=74.7841877931474\n",
      "x31: LHS=4.46353489807131, RHS=4.46353489807131\n",
      "x32: LHS=-9.49370194406247, RHS=-9.49370194406247\n",
      "x33: LHS=766.141043987261, RHS=766.141043987261\n"
     ]
    }
   ],
   "source": [
    "import numpy\n",
    "varnames = \"x11,x12,x13,x21,x22,x23,x31,x32,x33\".split(\",\")\n",
    "\n",
    "for varname in varnames:\n",
    "    x = eval(varname)\n",
    "    ddetY_dx = diff(det(Y), x)\n",
    "    lhs_value = ddetY_dx.evalf(subs=all_vars)\n",
    "    rhs_value = all_partials(x)\n",
    "    assert numpy.allclose(float(lhs_value), float(rhs_value))\n",
    "    print(f\"{varname}: LHS={lhs_value}, RHS={rhs_value}\")"
   ]
  },
  {
   "cell_type": "code",
   "execution_count": null,
   "metadata": {},
   "outputs": [],
   "source": []
  }
 ],
 "metadata": {
  "kernelspec": {
   "display_name": "Python 3",
   "language": "python",
   "name": "python3"
  },
  "language_info": {
   "codemirror_mode": {
    "name": "ipython",
    "version": 3
   },
   "file_extension": ".py",
   "mimetype": "text/x-python",
   "name": "python",
   "nbconvert_exporter": "python",
   "pygments_lexer": "ipython3",
   "version": "3.7.6"
  }
 },
 "nbformat": 4,
 "nbformat_minor": 4
}
